{
 "cells": [
  {
   "cell_type": "code",
   "execution_count": 4,
   "metadata": {},
   "outputs": [
    {
     "name": "stdout",
     "output_type": "stream",
     "text": [
      "temp_F:100\n",
      "37.220000000000006\n"
     ]
    }
   ],
   "source": [
    "#Write a python program to convert Fahrenheit to Celsius\n",
    "Temp_C = float(input(\"temp_F:\"))\n",
    "Real_Temp_C = 0.55*Temp_C - 17.78\n",
    "print(Real_Temp_C)"
   ]
  },
  {
   "cell_type": "code",
   "execution_count": 6,
   "metadata": {},
   "outputs": [
    {
     "name": "stdout",
     "output_type": "stream",
     "text": [
      "temp_C80\n",
      "177.45454545454544\n"
     ]
    }
   ],
   "source": [
    "#Write a python program to convert Celsius to Fahrenheit\n",
    "Temp_F= float(input(\"temp_C\"))\n",
    "Real_Temp_F = Temp_F/0.55 +  32\n",
    "print(Real_Temp_F)"
   ]
  },
  {
   "cell_type": "code",
   "execution_count": 7,
   "metadata": {},
   "outputs": [
    {
     "name": "stdout",
     "output_type": "stream",
     "text": [
      "Num:100\n",
      "5050\n"
     ]
    }
   ],
   "source": [
    "#Write a python program tha prints out the sum of values between 1 and 100\n",
    "Number = float(input(\"Num:\"))\n",
    "sum = 0\n",
    "i = 1\n",
    "while i <=Number:\n",
    "    sum = sum + i\n",
    "    i= i+1\n",
    "print(sum)"
   ]
  },
  {
   "cell_type": "code",
   "execution_count": 10,
   "metadata": {},
   "outputs": [
    {
     "name": "stdout",
     "output_type": "stream",
     "text": [
      "multiples of 3\n",
      "multiples of 5\n",
      "multiples of 3\n",
      "multiples of 3\n",
      "multiples of 5\n",
      "multiples of 3\n",
      "multiples of 3\n",
      "multiples of 5\n",
      "multiples of 3 and 5\n",
      "15\n",
      "multiples of 3\n",
      "multiples of 5\n",
      "multiples of 3\n",
      "multiples of 3\n",
      "multiples of 5\n",
      "multiples of 3\n",
      "multiples of 3\n",
      "multiples of 5\n",
      "multiples of 3 and 5\n",
      "30\n",
      "multiples of 3\n",
      "multiples of 5\n",
      "multiples of 3\n",
      "multiples of 3\n",
      "multiples of 5\n",
      "multiples of 3\n",
      "multiples of 3\n",
      "multiples of 5\n",
      "multiples of 3 and 5\n",
      "45\n",
      "multiples of 3\n",
      "multiples of 5\n",
      "multiples of 3\n",
      "multiples of 3\n",
      "multiples of 5\n",
      "multiples of 3\n",
      "multiples of 3\n",
      "multiples of 5\n",
      "multiples of 3 and 5\n",
      "60\n",
      "multiples of 3\n",
      "multiples of 5\n",
      "multiples of 3\n",
      "multiples of 3\n",
      "multiples of 5\n",
      "multiples of 3\n",
      "multiples of 3\n",
      "multiples of 5\n",
      "multiples of 3 and 5\n",
      "75\n",
      "multiples of 3\n",
      "multiples of 5\n",
      "multiples of 3\n",
      "multiples of 3\n",
      "multiples of 5\n",
      "multiples of 3\n",
      "multiples of 3\n",
      "multiples of 5\n",
      "multiples of 3 and 5\n",
      "90\n",
      "multiples of 3\n",
      "multiples of 5\n",
      "multiples of 3\n",
      "multiples of 3\n",
      "multiples of 5\n"
     ]
    }
   ],
   "source": [
    "#Write a python program that writes multiples of three as multiples\n",
    "for i in range(1,101):\n",
    "    if i%3==0:\n",
    "        print(\"multiples of 3\")\n",
    "    if i%5==0:\n",
    "        print(\"multiples of 5\")\n",
    "    if i%3==0 and i%5==0:\n",
    "        print(\"multiples of 3 and 5\")\n",
    "        print(i)\n",
    "        "
   ]
  },
  {
   "cell_type": "code",
   "execution_count": null,
   "metadata": {},
   "outputs": [],
   "source": []
  }
 ],
 "metadata": {
  "kernelspec": {
   "display_name": "Python 3",
   "language": "python",
   "name": "python3"
  },
  "language_info": {
   "codemirror_mode": {
    "name": "ipython",
    "version": 3
   },
   "file_extension": ".py",
   "mimetype": "text/x-python",
   "name": "python",
   "nbconvert_exporter": "python",
   "pygments_lexer": "ipython3",
   "version": "3.7.1"
  }
 },
 "nbformat": 4,
 "nbformat_minor": 2
}
