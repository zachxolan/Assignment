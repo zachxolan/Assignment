{
 "cells": [
  {
   "cell_type": "code",
   "execution_count": 1,
   "metadata": {},
   "outputs": [
    {
     "name": "stdout",
     "output_type": "stream",
     "text": [
      "hello world\n"
     ]
    }
   ],
   "source": [
    "print('hello world')"
   ]
  },
  {
   "cell_type": "code",
   "execution_count": 2,
   "metadata": {},
   "outputs": [
    {
     "name": "stdout",
     "output_type": "stream",
     "text": [
      "usernameDele\n",
      "helloDele\n"
     ]
    }
   ],
   "source": [
    "Greeting = input('username')\n",
    "print ('hello' + Greeting)"
   ]
  },
  {
   "cell_type": "code",
   "execution_count": 3,
   "metadata": {},
   "outputs": [
    {
     "data": {
      "text/plain": [
       "4"
      ]
     },
     "execution_count": 3,
     "metadata": {},
     "output_type": "execute_result"
    }
   ],
   "source": [
    "len(Greeting)"
   ]
  },
  {
   "cell_type": "code",
   "execution_count": 4,
   "metadata": {},
   "outputs": [
    {
     "data": {
      "text/plain": [
       "'CAT'"
      ]
     },
     "execution_count": 4,
     "metadata": {},
     "output_type": "execute_result"
    }
   ],
   "source": [
    "my_pet = \"cat\"\n",
    "my_pet.upper()"
   ]
  },
  {
   "cell_type": "code",
   "execution_count": 5,
   "metadata": {},
   "outputs": [
    {
     "data": {
      "text/plain": [
       "'cat'"
      ]
     },
     "execution_count": 5,
     "metadata": {},
     "output_type": "execute_result"
    }
   ],
   "source": [
    "my_pet.lower()"
   ]
  },
  {
   "cell_type": "code",
   "execution_count": 6,
   "metadata": {},
   "outputs": [
    {
     "data": {
      "text/plain": [
       "'Cat'"
      ]
     },
     "execution_count": 6,
     "metadata": {},
     "output_type": "execute_result"
    }
   ],
   "source": [
    "my_pet.capitalize()"
   ]
  },
  {
   "cell_type": "code",
   "execution_count": 7,
   "metadata": {},
   "outputs": [
    {
     "name": "stdout",
     "output_type": "stream",
     "text": [
      "age16\n",
      "Make use of this opportunity\n"
     ]
    }
   ],
   "source": [
    " Age = float(input('age'))\n",
    "if Age < 12:\n",
    "    print('You are lucky to be here')\n",
    "if 12 <= Age < 20:\n",
    "    print('Make use of this opportunity')\n",
    "if Age > 20:\n",
    "    print('Learning is a continuous process. Start learning?')"
   ]
  },
  {
   "cell_type": "code",
   "execution_count": 8,
   "metadata": {},
   "outputs": [
    {
     "name": "stdout",
     "output_type": "stream",
     "text": [
      "num0.9\n",
      "0.81\n"
     ]
    }
   ],
   "source": [
    "#Write a python progran to calculate if the square of a number is greater than zero\n",
    "X = float(input('num'))\n",
    "if X > 0:\n",
    "    A = X**2\n",
    "print(A)"
   ]
  },
  {
   "cell_type": "code",
   "execution_count": 9,
   "metadata": {},
   "outputs": [
    {
     "name": "stdout",
     "output_type": "stream",
     "text": [
      "goals 3\n",
      "It was a very interesting game\n"
     ]
    }
   ],
   "source": [
    "#Write a python program to comment on how interesting a football match was\n",
    "Game = float(input('goals '))\n",
    "if Game == 0:\n",
    "    print('the game was a bore draw')\n",
    "if 1<=Game<=2:\n",
    "    print('Not the most interesting game')\n",
    "if 3<=Game<=5:\n",
    "    print('It was a very interesting game')\n",
    "if Game >= 6:\n",
    "    print('The football match was an unmissable game!')"
   ]
  },
  {
   "cell_type": "code",
   "execution_count": null,
   "metadata": {},
   "outputs": [],
   "source": [
    "#Reproducing a calculator output\n",
    "print('Welcome to our calculator')\n",
    "first_num = float(input('Enter first num'))\n",
    "second_num = float(input('Enter second num'))\n",
    "def Addition(first_num,second_num):\n",
    "    print(first_num + second_num)\n",
    "def substraction(first_num, second_num):\n",
    "    print(first_num-second_num)\n",
    "def Mult(first_num,second_num):\n",
    "    print(first_num*second_num)\n",
    "def Divide (first_num, second_num)\n",
    "Desired_operation = input('function')\n",
    "print( 'result is' + Desired_operation)\n",
    "print('Thank you for using our calculator')"
   ]
  }
 ],
 "metadata": {
  "kernelspec": {
   "display_name": "Python 3",
   "language": "python",
   "name": "python3"
  },
  "language_info": {
   "codemirror_mode": {
    "name": "ipython",
    "version": 3
   },
   "file_extension": ".py",
   "mimetype": "text/x-python",
   "name": "python",
   "nbconvert_exporter": "python",
   "pygments_lexer": "ipython3",
   "version": "3.7.1"
  }
 },
 "nbformat": 4,
 "nbformat_minor": 2
}
